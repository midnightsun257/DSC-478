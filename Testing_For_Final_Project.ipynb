{
 "cells": [
  {
   "cell_type": "code",
   "execution_count": 3,
   "metadata": {},
   "outputs": [
    {
     "name": "stdout",
     "output_type": "stream",
     "text": [
      "Requirement already satisfied: yfinance in c:\\users\\ankita mishra\\anaconda3\\lib\\site-packages (0.2.48)\n",
      "Requirement already satisfied: frozendict>=2.3.4 in c:\\users\\ankita mishra\\anaconda3\\lib\\site-packages (from yfinance) (2.4.6)\n",
      "Requirement already satisfied: pandas>=1.3.0 in c:\\users\\ankita mishra\\anaconda3\\lib\\site-packages (from yfinance) (1.3.5)\n",
      "Requirement already satisfied: html5lib>=1.1 in c:\\users\\ankita mishra\\anaconda3\\lib\\site-packages (from yfinance) (1.1)\n",
      "Requirement already satisfied: beautifulsoup4>=4.11.1 in c:\\users\\ankita mishra\\anaconda3\\lib\\site-packages (from yfinance) (4.12.3)\n",
      "Requirement already satisfied: numpy>=1.16.5 in c:\\users\\ankita mishra\\anaconda3\\lib\\site-packages (from yfinance) (1.19.5)\n",
      "Requirement already satisfied: peewee>=3.16.2 in c:\\users\\ankita mishra\\anaconda3\\lib\\site-packages (from yfinance) (3.17.7)\n",
      "Requirement already satisfied: lxml>=4.9.1 in c:\\users\\ankita mishra\\anaconda3\\lib\\site-packages (from yfinance) (5.3.0)\n",
      "Requirement already satisfied: requests>=2.31 in c:\\users\\ankita mishra\\anaconda3\\lib\\site-packages (from yfinance) (2.31.0)\n",
      "Requirement already satisfied: pytz>=2022.5 in c:\\users\\ankita mishra\\anaconda3\\lib\\site-packages (from yfinance) (2024.2)\n",
      "Requirement already satisfied: multitasking>=0.0.7 in c:\\users\\ankita mishra\\anaconda3\\lib\\site-packages (from yfinance) (0.0.11)\n",
      "Requirement already satisfied: platformdirs>=2.0.0 in c:\\users\\ankita mishra\\anaconda3\\lib\\site-packages (from yfinance) (4.0.0)\n",
      "Requirement already satisfied: python-dateutil>=2.7.3 in c:\\users\\ankita mishra\\anaconda3\\lib\\site-packages (from pandas>=1.3.0->yfinance) (2.8.1)\n",
      "Requirement already satisfied: webencodings in c:\\users\\ankita mishra\\anaconda3\\lib\\site-packages (from html5lib>=1.1->yfinance) (0.5.1)\n",
      "Requirement already satisfied: six>=1.9 in c:\\users\\ankita mishra\\anaconda3\\lib\\site-packages (from html5lib>=1.1->yfinance) (1.15.0)\n",
      "Requirement already satisfied: soupsieve>1.2 in c:\\users\\ankita mishra\\anaconda3\\lib\\site-packages (from beautifulsoup4>=4.11.1->yfinance) (1.9.5)\n",
      "Requirement already satisfied: charset-normalizer<4,>=2 in c:\\users\\ankita mishra\\anaconda3\\lib\\site-packages (from requests>=2.31->yfinance) (3.4.0)\n",
      "Requirement already satisfied: certifi>=2017.4.17 in c:\\users\\ankita mishra\\anaconda3\\lib\\site-packages (from requests>=2.31->yfinance) (2019.11.28)\n",
      "Requirement already satisfied: idna<4,>=2.5 in c:\\users\\ankita mishra\\anaconda3\\lib\\site-packages (from requests>=2.31->yfinance) (2.8)\n",
      "Requirement already satisfied: urllib3<3,>=1.21.1 in c:\\users\\ankita mishra\\anaconda3\\lib\\site-packages (from requests>=2.31->yfinance) (1.25.8)\n",
      "Requirement already satisfied: typing-extensions>=4.7.1; python_version < \"3.8\" in c:\\users\\ankita mishra\\anaconda3\\lib\\site-packages (from platformdirs>=2.0.0->yfinance) (4.7.1)\n"
     ]
    }
   ],
   "source": [
    "!pip install yfinance"
   ]
  },
  {
   "cell_type": "code",
   "execution_count": 4,
   "metadata": {},
   "outputs": [
    {
     "name": "stderr",
     "output_type": "stream",
     "text": [
      "[*********************100%***********************]  1 of 1 completed\n",
      "[*********************100%***********************]  1 of 1 completed\n",
      "[*********************100%***********************]  1 of 1 completed\n",
      "[*********************100%***********************]  1 of 1 completed\n",
      "[*********************100%***********************]  1 of 1 completed\n",
      "[*********************100%***********************]  1 of 1 completed\n",
      "[*********************100%***********************]  1 of 1 completed\n",
      "[*********************100%***********************]  1 of 1 completed\n"
     ]
    }
   ],
   "source": [
    "import yfinance as yf\n",
    "import pandas as pd\n",
    "import numpy as np\n",
    "from scipy.stats import pearsonr\n",
    "\n",
    "\n",
    "# Step 1: Get 5 years of data for AAPL\n",
    "end_date = '2024-10-04'\n",
    "start_date = '1982-10-04'\n",
    "\n",
    "#### Tech\n",
    "aapl = yf.download(['AAPL'], start=start_date, end=end_date,interval='1mo')\n",
    "msft = yf.download(['MSFT'], start=start_date, end=end_date,interval='1mo')\n",
    "ibm = yf.download(['IBM'], start=start_date, end=end_date,interval='1mo')\n",
    "intel = yf.download(['INTC'], start=start_date, end=end_date,interval='1mo')\n",
    "\n",
    "# Consumer Staples\n",
    "wmt = yf.download(['WMT'], start=start_date, end=end_date,interval='1mo')\n",
    "pg = yf.download(['PG'], start=start_date, end=end_date,interval='1mo')\n",
    "ul = yf.download(['UL'], start=start_date, end=end_date,interval='1mo')\n",
    "ko = yf.download(['KO'], start=start_date, end=end_date,interval='1mo')\n"
   ]
  },
  {
   "cell_type": "code",
   "execution_count": 5,
   "metadata": {},
   "outputs": [],
   "source": [
    "def return_calc(df_stock, return_length, column):\n",
    "    return ((df_stock[[column]].shift(-return_length)/df_stock[[column]]) - 1).dropna(axis = 0)"
   ]
  },
  {
   "cell_type": "code",
   "execution_count": 6,
   "metadata": {},
   "outputs": [],
   "source": [
    "appl_ret  = return_calc(aapl, 1, \"Adj Close\")\n",
    "\n",
    "\n"
   ]
  },
  {
   "cell_type": "code",
   "execution_count": 11,
   "metadata": {},
   "outputs": [],
   "source": [
    "import math\n",
    "def mean(arr):\n",
    "    return sum(arr) / len(arr)\n",
    "def cross_correlation(x, y):\n",
    "    # Calculate means\n",
    "    x_mean = mean(x)\n",
    "    y_mean = mean(y)\n",
    "    \n",
    "    # Calculate numerator\n",
    "    numerator = sum((a - x_mean) * (b - y_mean) for a, b in zip(x, y))\n",
    "    \n",
    "    # Calculate denominators\n",
    "    x_sq_diff = sum((a - x_mean) ** 2 for a in x)\n",
    "    y_sq_diff = sum((b - y_mean) ** 2 for b in y)\n",
    "    denominator = math.sqrt(x_sq_diff * y_sq_diff)\n",
    "    correlation = numerator / denominator\n",
    "    \n",
    "    return correlation"
   ]
  },
  {
   "cell_type": "code",
   "execution_count": 12,
   "metadata": {},
   "outputs": [],
   "source": [
    "def corr_shift(df_stock,shift_length, column):\n",
    "    df_shifted = df_stock[[column]].shift(-shift_length)\n",
    "    df_shifted.dropna(axis = 0, inplace = True)\n",
    "    print(df_shifted, type(df_shifted),df_shifted.shape)\n",
    "    df_adjust = df_stock.iloc[:-shift_length,:]\n",
    "    print(df_adjust, type(df_adjust), df_adjust.shape)\n",
    "    df_correlation = cross_correlation(df_shifted.loc[:,column], df_adjust.loc[:,column])\n",
    "    #print(scipy_correlation)\n",
    "    #return np.corrcoef(df_shifted, df_adjust)[0, 1]\n",
    "    return df_correlation #df_shifted,df_adjust"
   ]
  },
  {
   "cell_type": "code",
   "execution_count": 13,
   "metadata": {},
   "outputs": [
    {
     "name": "stdout",
     "output_type": "stream",
     "text": [
      "Price                     Adj Close\n",
      "Ticker                         AAPL\n",
      "Date                               \n",
      "1985-01-01 00:00:00+00:00 -0.118048\n",
      "1985-02-01 00:00:00+00:00 -0.055128\n",
      "1985-03-01 00:00:00+00:00  0.050012\n",
      "1985-04-01 00:00:00+00:00  0.182526\n",
      "1985-05-01 00:00:00+00:00  0.080544\n",
      "...                             ...\n",
      "2023-12-01 00:00:00+00:00  0.097039\n",
      "2024-01-01 00:00:00+00:00  0.054411\n",
      "2024-02-01 00:00:00+00:00  0.031160\n",
      "2024-03-01 00:00:00+00:00  0.018645\n",
      "2024-04-01 00:00:00+00:00 -0.006824\n",
      "\n",
      "[472 rows x 1 columns] <class 'pandas.core.frame.DataFrame'> (472, 1)\n",
      "Price                     Adj Close\n",
      "Ticker                         AAPL\n",
      "Date                               \n",
      "1985-01-01 00:00:00+00:00 -0.146550\n",
      "1985-02-01 00:00:00+00:00 -0.106063\n",
      "1985-03-01 00:00:00+00:00 -0.039545\n",
      "1985-04-01 00:00:00+00:00 -0.182352\n",
      "1985-05-01 00:00:00+00:00  0.035969\n",
      "...                             ...\n",
      "2023-12-01 00:00:00+00:00 -0.042227\n",
      "2024-01-01 00:00:00+00:00 -0.019794\n",
      "2024-02-01 00:00:00+00:00 -0.050076\n",
      "2024-03-01 00:00:00+00:00 -0.006706\n",
      "2024-04-01 00:00:00+00:00  0.128691\n",
      "\n",
      "[472 rows x 1 columns] <class 'pandas.core.frame.DataFrame'> (472, 1)\n"
     ]
    },
    {
     "ename": "TypeError",
     "evalue": "unsupported operand type(s) for +: 'int' and 'str'",
     "output_type": "error",
     "traceback": [
      "\u001b[1;31m---------------------------------------------------------------------------\u001b[0m",
      "\u001b[1;31mTypeError\u001b[0m                                 Traceback (most recent call last)",
      "\u001b[1;32m<ipython-input-13-9bce5561c317>\u001b[0m in \u001b[0;36m<module>\u001b[1;34m\u001b[0m\n\u001b[0;32m      1\u001b[0m \u001b[1;31m#a, b= corr_shift(appl_ret,5, \"Adj Close\")\u001b[0m\u001b[1;33m\u001b[0m\u001b[1;33m\u001b[0m\u001b[1;33m\u001b[0m\u001b[0m\n\u001b[1;32m----> 2\u001b[1;33m \u001b[0mcorr_shift\u001b[0m\u001b[1;33m(\u001b[0m\u001b[0mappl_ret\u001b[0m\u001b[1;33m,\u001b[0m\u001b[1;36m5\u001b[0m\u001b[1;33m,\u001b[0m \u001b[1;34m\"Adj Close\"\u001b[0m\u001b[1;33m)\u001b[0m\u001b[1;33m\u001b[0m\u001b[1;33m\u001b[0m\u001b[0m\n\u001b[0m",
      "\u001b[1;32m<ipython-input-12-c8c517753f7b>\u001b[0m in \u001b[0;36mcorr_shift\u001b[1;34m(df_stock, shift_length, column)\u001b[0m\n\u001b[0;32m      5\u001b[0m     \u001b[0mdf_adjust\u001b[0m \u001b[1;33m=\u001b[0m \u001b[0mdf_stock\u001b[0m\u001b[1;33m.\u001b[0m\u001b[0miloc\u001b[0m\u001b[1;33m[\u001b[0m\u001b[1;33m:\u001b[0m\u001b[1;33m-\u001b[0m\u001b[0mshift_length\u001b[0m\u001b[1;33m,\u001b[0m\u001b[1;33m:\u001b[0m\u001b[1;33m]\u001b[0m\u001b[1;33m\u001b[0m\u001b[1;33m\u001b[0m\u001b[0m\n\u001b[0;32m      6\u001b[0m     \u001b[0mprint\u001b[0m\u001b[1;33m(\u001b[0m\u001b[0mdf_adjust\u001b[0m\u001b[1;33m,\u001b[0m \u001b[0mtype\u001b[0m\u001b[1;33m(\u001b[0m\u001b[0mdf_adjust\u001b[0m\u001b[1;33m)\u001b[0m\u001b[1;33m,\u001b[0m \u001b[0mdf_adjust\u001b[0m\u001b[1;33m.\u001b[0m\u001b[0mshape\u001b[0m\u001b[1;33m)\u001b[0m\u001b[1;33m\u001b[0m\u001b[1;33m\u001b[0m\u001b[0m\n\u001b[1;32m----> 7\u001b[1;33m     \u001b[0mdf_correlation\u001b[0m \u001b[1;33m=\u001b[0m \u001b[0mcross_correlation\u001b[0m\u001b[1;33m(\u001b[0m\u001b[0mdf_shifted\u001b[0m\u001b[1;33m.\u001b[0m\u001b[0mloc\u001b[0m\u001b[1;33m[\u001b[0m\u001b[1;33m:\u001b[0m\u001b[1;33m,\u001b[0m\u001b[0mcolumn\u001b[0m\u001b[1;33m]\u001b[0m\u001b[1;33m,\u001b[0m \u001b[0mdf_adjust\u001b[0m\u001b[1;33m.\u001b[0m\u001b[0mloc\u001b[0m\u001b[1;33m[\u001b[0m\u001b[1;33m:\u001b[0m\u001b[1;33m,\u001b[0m\u001b[0mcolumn\u001b[0m\u001b[1;33m]\u001b[0m\u001b[1;33m)\u001b[0m\u001b[1;33m\u001b[0m\u001b[1;33m\u001b[0m\u001b[0m\n\u001b[0m\u001b[0;32m      8\u001b[0m     \u001b[1;31m#print(scipy_correlation)\u001b[0m\u001b[1;33m\u001b[0m\u001b[1;33m\u001b[0m\u001b[1;33m\u001b[0m\u001b[0m\n\u001b[0;32m      9\u001b[0m     \u001b[1;31m#return np.corrcoef(df_shifted, df_adjust)[0, 1]\u001b[0m\u001b[1;33m\u001b[0m\u001b[1;33m\u001b[0m\u001b[1;33m\u001b[0m\u001b[0m\n",
      "\u001b[1;32m<ipython-input-11-c4b9ccadbbc7>\u001b[0m in \u001b[0;36mcross_correlation\u001b[1;34m(x, y)\u001b[0m\n\u001b[0;32m      4\u001b[0m \u001b[1;32mdef\u001b[0m \u001b[0mcross_correlation\u001b[0m\u001b[1;33m(\u001b[0m\u001b[0mx\u001b[0m\u001b[1;33m,\u001b[0m \u001b[0my\u001b[0m\u001b[1;33m)\u001b[0m\u001b[1;33m:\u001b[0m\u001b[1;33m\u001b[0m\u001b[1;33m\u001b[0m\u001b[0m\n\u001b[0;32m      5\u001b[0m     \u001b[1;31m# Calculate means\u001b[0m\u001b[1;33m\u001b[0m\u001b[1;33m\u001b[0m\u001b[1;33m\u001b[0m\u001b[0m\n\u001b[1;32m----> 6\u001b[1;33m     \u001b[0mx_mean\u001b[0m \u001b[1;33m=\u001b[0m \u001b[0mmean\u001b[0m\u001b[1;33m(\u001b[0m\u001b[0mx\u001b[0m\u001b[1;33m)\u001b[0m\u001b[1;33m\u001b[0m\u001b[1;33m\u001b[0m\u001b[0m\n\u001b[0m\u001b[0;32m      7\u001b[0m     \u001b[0my_mean\u001b[0m \u001b[1;33m=\u001b[0m \u001b[0mmean\u001b[0m\u001b[1;33m(\u001b[0m\u001b[0my\u001b[0m\u001b[1;33m)\u001b[0m\u001b[1;33m\u001b[0m\u001b[1;33m\u001b[0m\u001b[0m\n\u001b[0;32m      8\u001b[0m \u001b[1;33m\u001b[0m\u001b[0m\n",
      "\u001b[1;32m<ipython-input-11-c4b9ccadbbc7>\u001b[0m in \u001b[0;36mmean\u001b[1;34m(arr)\u001b[0m\n\u001b[0;32m      1\u001b[0m \u001b[1;32mimport\u001b[0m \u001b[0mmath\u001b[0m\u001b[1;33m\u001b[0m\u001b[1;33m\u001b[0m\u001b[0m\n\u001b[0;32m      2\u001b[0m \u001b[1;32mdef\u001b[0m \u001b[0mmean\u001b[0m\u001b[1;33m(\u001b[0m\u001b[0marr\u001b[0m\u001b[1;33m)\u001b[0m\u001b[1;33m:\u001b[0m\u001b[1;33m\u001b[0m\u001b[1;33m\u001b[0m\u001b[0m\n\u001b[1;32m----> 3\u001b[1;33m     \u001b[1;32mreturn\u001b[0m \u001b[0msum\u001b[0m\u001b[1;33m(\u001b[0m\u001b[0marr\u001b[0m\u001b[1;33m)\u001b[0m \u001b[1;33m/\u001b[0m \u001b[0mlen\u001b[0m\u001b[1;33m(\u001b[0m\u001b[0marr\u001b[0m\u001b[1;33m)\u001b[0m\u001b[1;33m\u001b[0m\u001b[1;33m\u001b[0m\u001b[0m\n\u001b[0m\u001b[0;32m      4\u001b[0m \u001b[1;32mdef\u001b[0m \u001b[0mcross_correlation\u001b[0m\u001b[1;33m(\u001b[0m\u001b[0mx\u001b[0m\u001b[1;33m,\u001b[0m \u001b[0my\u001b[0m\u001b[1;33m)\u001b[0m\u001b[1;33m:\u001b[0m\u001b[1;33m\u001b[0m\u001b[1;33m\u001b[0m\u001b[0m\n\u001b[0;32m      5\u001b[0m     \u001b[1;31m# Calculate means\u001b[0m\u001b[1;33m\u001b[0m\u001b[1;33m\u001b[0m\u001b[1;33m\u001b[0m\u001b[0m\n",
      "\u001b[1;31mTypeError\u001b[0m: unsupported operand type(s) for +: 'int' and 'str'"
     ]
    }
   ],
   "source": [
    "#a, b= corr_shift(appl_ret,5, \"Adj Close\")\n",
    "corr_shift(appl_ret,5, \"Adj Close\")"
   ]
  },
  {
   "cell_type": "code",
   "execution_count": 14,
   "metadata": {},
   "outputs": [
    {
     "ename": "NameError",
     "evalue": "name 'a' is not defined",
     "output_type": "error",
     "traceback": [
      "\u001b[1;31m---------------------------------------------------------------------------\u001b[0m",
      "\u001b[1;31mNameError\u001b[0m                                 Traceback (most recent call last)",
      "\u001b[1;32m<ipython-input-14-e1a51c2ecd2f>\u001b[0m in \u001b[0;36m<module>\u001b[1;34m\u001b[0m\n\u001b[1;32m----> 1\u001b[1;33m \u001b[1;32mfor\u001b[0m \u001b[0melem\u001b[0m \u001b[1;32min\u001b[0m \u001b[0ma\u001b[0m\u001b[1;33m:\u001b[0m\u001b[1;33m\u001b[0m\u001b[1;33m\u001b[0m\u001b[0m\n\u001b[0m\u001b[0;32m      2\u001b[0m     \u001b[1;32mif\u001b[0m \u001b[0mtype\u001b[0m\u001b[1;33m(\u001b[0m\u001b[0melem\u001b[0m\u001b[1;33m)\u001b[0m \u001b[1;33m==\u001b[0m \u001b[1;34m\"str\"\u001b[0m\u001b[1;33m:\u001b[0m\u001b[1;33m\u001b[0m\u001b[1;33m\u001b[0m\u001b[0m\n\u001b[0;32m      3\u001b[0m         \u001b[0mprint\u001b[0m\u001b[1;33m(\u001b[0m\u001b[1;34m\"Here is the issue\"\u001b[0m\u001b[1;33m,\u001b[0m\u001b[0melem\u001b[0m\u001b[1;33m)\u001b[0m\u001b[1;33m\u001b[0m\u001b[1;33m\u001b[0m\u001b[0m\n\u001b[0;32m      4\u001b[0m     \u001b[0mprint\u001b[0m\u001b[1;33m(\u001b[0m\u001b[0melem\u001b[0m\u001b[1;33m)\u001b[0m\u001b[1;33m\u001b[0m\u001b[1;33m\u001b[0m\u001b[0m\n",
      "\u001b[1;31mNameError\u001b[0m: name 'a' is not defined"
     ]
    }
   ],
   "source": [
    "for elem in a:\n",
    "    if type(elem) == \"str\":\n",
    "        print(\"Here is the issue\",elem)\n",
    "    print(elem)"
   ]
  },
  {
   "cell_type": "code",
   "execution_count": 15,
   "metadata": {},
   "outputs": [
    {
     "ename": "NameError",
     "evalue": "name 'a' is not defined",
     "output_type": "error",
     "traceback": [
      "\u001b[1;31m---------------------------------------------------------------------------\u001b[0m",
      "\u001b[1;31mNameError\u001b[0m                                 Traceback (most recent call last)",
      "\u001b[1;32m<ipython-input-15-a030f96e30a3>\u001b[0m in \u001b[0;36m<module>\u001b[1;34m\u001b[0m\n\u001b[1;32m----> 1\u001b[1;33m \u001b[0mcross_correlation\u001b[0m\u001b[1;33m(\u001b[0m\u001b[0ma\u001b[0m\u001b[1;33m.\u001b[0m\u001b[0mloc\u001b[0m\u001b[1;33m[\u001b[0m\u001b[1;33m:\u001b[0m\u001b[1;33m,\u001b[0m\u001b[1;34m\"Adj Close\"\u001b[0m\u001b[1;33m]\u001b[0m\u001b[1;33m,\u001b[0m\u001b[0mb\u001b[0m\u001b[1;33m.\u001b[0m\u001b[0mloc\u001b[0m\u001b[1;33m[\u001b[0m\u001b[1;33m:\u001b[0m\u001b[1;33m,\u001b[0m\u001b[1;34m\"Adj Close\"\u001b[0m\u001b[1;33m]\u001b[0m\u001b[1;33m)\u001b[0m\u001b[1;33m\u001b[0m\u001b[1;33m\u001b[0m\u001b[0m\n\u001b[0m",
      "\u001b[1;31mNameError\u001b[0m: name 'a' is not defined"
     ]
    }
   ],
   "source": [
    "cross_correlation(a.loc[:,\"Adj Close\"],b.loc[:,\"Adj Close\"])"
   ]
  },
  {
   "cell_type": "code",
   "execution_count": 16,
   "metadata": {},
   "outputs": [
    {
     "data": {
      "text/html": [
       "<div>\n",
       "<style scoped>\n",
       "    .dataframe tbody tr th:only-of-type {\n",
       "        vertical-align: middle;\n",
       "    }\n",
       "\n",
       "    .dataframe tbody tr th {\n",
       "        vertical-align: top;\n",
       "    }\n",
       "\n",
       "    .dataframe thead tr th {\n",
       "        text-align: left;\n",
       "    }\n",
       "\n",
       "    .dataframe thead tr:last-of-type th {\n",
       "        text-align: right;\n",
       "    }\n",
       "</style>\n",
       "<table border=\"1\" class=\"dataframe\">\n",
       "  <thead>\n",
       "    <tr>\n",
       "      <th>Price</th>\n",
       "      <th>Adj Close</th>\n",
       "    </tr>\n",
       "    <tr>\n",
       "      <th>Ticker</th>\n",
       "      <th>AAPL</th>\n",
       "    </tr>\n",
       "    <tr>\n",
       "      <th>Date</th>\n",
       "      <th></th>\n",
       "    </tr>\n",
       "  </thead>\n",
       "  <tbody>\n",
       "    <tr>\n",
       "      <th>1985-01-01 00:00:00+00:00</th>\n",
       "      <td>-0.146550</td>\n",
       "    </tr>\n",
       "    <tr>\n",
       "      <th>1985-02-01 00:00:00+00:00</th>\n",
       "      <td>-0.106063</td>\n",
       "    </tr>\n",
       "    <tr>\n",
       "      <th>1985-03-01 00:00:00+00:00</th>\n",
       "      <td>-0.039545</td>\n",
       "    </tr>\n",
       "    <tr>\n",
       "      <th>1985-04-01 00:00:00+00:00</th>\n",
       "      <td>-0.182352</td>\n",
       "    </tr>\n",
       "    <tr>\n",
       "      <th>1985-05-01 00:00:00+00:00</th>\n",
       "      <td>0.035969</td>\n",
       "    </tr>\n",
       "    <tr>\n",
       "      <th>...</th>\n",
       "      <td>...</td>\n",
       "    </tr>\n",
       "    <tr>\n",
       "      <th>2024-05-01 00:00:00+00:00</th>\n",
       "      <td>0.097039</td>\n",
       "    </tr>\n",
       "    <tr>\n",
       "      <th>2024-06-01 00:00:00+00:00</th>\n",
       "      <td>0.054411</td>\n",
       "    </tr>\n",
       "    <tr>\n",
       "      <th>2024-07-01 00:00:00+00:00</th>\n",
       "      <td>0.031160</td>\n",
       "    </tr>\n",
       "    <tr>\n",
       "      <th>2024-08-01 00:00:00+00:00</th>\n",
       "      <td>0.018645</td>\n",
       "    </tr>\n",
       "    <tr>\n",
       "      <th>2024-09-01 00:00:00+00:00</th>\n",
       "      <td>-0.006824</td>\n",
       "    </tr>\n",
       "  </tbody>\n",
       "</table>\n",
       "<p>477 rows × 1 columns</p>\n",
       "</div>"
      ],
      "text/plain": [
       "Price                     Adj Close\n",
       "Ticker                         AAPL\n",
       "Date                               \n",
       "1985-01-01 00:00:00+00:00 -0.146550\n",
       "1985-02-01 00:00:00+00:00 -0.106063\n",
       "1985-03-01 00:00:00+00:00 -0.039545\n",
       "1985-04-01 00:00:00+00:00 -0.182352\n",
       "1985-05-01 00:00:00+00:00  0.035969\n",
       "...                             ...\n",
       "2024-05-01 00:00:00+00:00  0.097039\n",
       "2024-06-01 00:00:00+00:00  0.054411\n",
       "2024-07-01 00:00:00+00:00  0.031160\n",
       "2024-08-01 00:00:00+00:00  0.018645\n",
       "2024-09-01 00:00:00+00:00 -0.006824\n",
       "\n",
       "[477 rows x 1 columns]"
      ]
     },
     "execution_count": 16,
     "metadata": {},
     "output_type": "execute_result"
    }
   ],
   "source": [
    "((aapl[[\"Adj Close\"]].shift(-1)/aapl[[\"Adj Close\"]]) - 1)[:-1]"
   ]
  },
  {
   "cell_type": "code",
   "execution_count": null,
   "metadata": {},
   "outputs": [],
   "source": []
  }
 ],
 "metadata": {
  "kernelspec": {
   "display_name": "Python 3",
   "language": "python",
   "name": "python3"
  },
  "language_info": {
   "codemirror_mode": {
    "name": "ipython",
    "version": 3
   },
   "file_extension": ".py",
   "mimetype": "text/x-python",
   "name": "python",
   "nbconvert_exporter": "python",
   "pygments_lexer": "ipython3",
   "version": "3.7.6"
  }
 },
 "nbformat": 4,
 "nbformat_minor": 5
}
